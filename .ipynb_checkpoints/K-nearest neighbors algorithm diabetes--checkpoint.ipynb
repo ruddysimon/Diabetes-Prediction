{
 "cells": [
  {
   "cell_type": "code",
   "execution_count": 1,
   "metadata": {},
   "outputs": [],
   "source": [
    "%matplotlib inline"
   ]
  },
  {
   "cell_type": "code",
   "execution_count": 2,
   "metadata": {},
   "outputs": [],
   "source": [
    "import warnings\n",
    "warnings.simplefilter('ignore')"
   ]
  },
  {
   "cell_type": "code",
   "execution_count": null,
   "metadata": {},
   "outputs": [],
   "source": [
    "# Dependencies\n",
    "import pandas as pd\n",
    "import numpy as np\n",
    "import csv\n",
    "import os\n",
    "import matplotlib.pyplot as plt\n",
    "from sklearn.neighbors import KNeighborsClassifier"
   ]
  },
  {
   "cell_type": "markdown",
   "metadata": {},
   "source": [
    "### Loading the dataset"
   ]
  },
  {
   "cell_type": "code",
   "execution_count": null,
   "metadata": {},
   "outputs": [],
   "source": [
    "# Importing csv file\n",
    "os.chdir('/Users/ruddysimonpour/Desktop/Diabetes/source/')\n",
    "diabetes_file = pd.read_csv(\"pima-data.csv\", low_memory = False)"
   ]
  },
  {
   "cell_type": "code",
   "execution_count": null,
   "metadata": {},
   "outputs": [],
   "source": [
    "diabetes_file.info()"
   ]
  },
  {
   "cell_type": "code",
   "execution_count": null,
   "metadata": {},
   "outputs": [],
   "source": [
    "diabetes_file.describe().T"
   ]
  },
  {
   "cell_type": "code",
   "execution_count": null,
   "metadata": {},
   "outputs": [],
   "source": [
    "diabetes_file"
   ]
  },
  {
   "cell_type": "code",
   "execution_count": null,
   "metadata": {},
   "outputs": [],
   "source": [
    "# Fix the columns names so if column have '-' we can change it to '_'\n",
    "def clean_diabetes_data(diabetes_file):\n",
    "    cols = diabetes_file.columns\n",
    "    diabetes_file.columns = [str.replace('-','_') for str in cols]\n",
    "    return diabetes_file\n",
    "diabetes_file = clean_diabetes_data(diabetes_file)\n",
    "print(diabetes_file.columns)"
   ]
  },
  {
   "cell_type": "code",
   "execution_count": null,
   "metadata": {},
   "outputs": [],
   "source": [
    "# Check the Null values \n",
    "diabetes_file.isnull()"
   ]
  },
  {
   "cell_type": "markdown",
   "metadata": {},
   "source": [
    "We checked the null values and it shows that we don't have missing values in the dataset, however regarding to this article: \n",
    "- https://www.sciencedirect.com/science/article/pii/S2352914816300016\n",
    "\"In 2001, 376 of 786 observations in the PID dataset were shownto lack experimental validity[65]because for some attributes, thevalue ofzerowas recorded in place of missing experimentalobservations[66]. It was also shown that if the instances withzerovalues were removed, performance could be dramaticallyimproved[65].\"\n",
    "\n",
    "We considering the zero values as missing values. \n",
    "Now we can replace zeros with median."
   ]
  },
  {
   "cell_type": "code",
   "execution_count": null,
   "metadata": {},
   "outputs": [],
   "source": [
    "# Replacing zero to NaN values\n",
    "data = diabetes_file[[\n",
    "                      \"glucose_conc\",\n",
    "                      \"diastolic_bp\",\n",
    "                      \"thickness\",\n",
    "                      \"insulin\",\n",
    "                      \"bmi\",\n",
    "                      \"skin\"]]= diabetes_file\\\n",
    "[[\"glucose_conc\",\"diastolic_bp\",\"thickness\",\"insulin\",\"bmi\",\"skin\"]].replace(0,np.nan)\n",
    "data"
   ]
  },
  {
   "cell_type": "code",
   "execution_count": null,
   "metadata": {},
   "outputs": [],
   "source": [
    "# replacing NaN values with median\n",
    "diabetes_file['glucose_conc'] = diabetes_file['glucose_conc'].fillna((diabetes_file['glucose_conc'].mean()))\n",
    "diabetes_file['diastolic_bp'] = diabetes_file['diastolic_bp'].fillna((diabetes_file['diastolic_bp'].mean()))\n",
    "diabetes_file['thickness'] = diabetes_file['thickness'].fillna((diabetes_file['thickness'].mean()))\n",
    "diabetes_file['insulin'] = diabetes_file['insulin'].fillna((diabetes_file['insulin'].mean()))\n",
    "diabetes_file['bmi'] = diabetes_file['bmi'].fillna((diabetes_file['bmi'].mean()))\n",
    "diabetes_file['skin'] = diabetes_file['bmi'].fillna((diabetes_file['skin'].mean()))"
   ]
  },
  {
   "cell_type": "code",
   "execution_count": null,
   "metadata": {},
   "outputs": [],
   "source": [
    "diabetes_file"
   ]
  },
  {
   "cell_type": "markdown",
   "metadata": {},
   "source": [
    "### Matrix of correlation between attributes"
   ]
  },
  {
   "cell_type": "code",
   "execution_count": null,
   "metadata": {},
   "outputs": [],
   "source": [
    "# Finding correlation between different trends\n",
    "corr = diabetes_file.corr()\n",
    "corr.style.background_gradient(cmap='coolwarm')"
   ]
  },
  {
   "cell_type": "markdown",
   "metadata": {},
   "source": [
    "In this dataset we found out that skin and bmi have correlation to each other. So we need to remove one of them.\n"
   ]
  },
  {
   "cell_type": "code",
   "execution_count": null,
   "metadata": {},
   "outputs": [],
   "source": [
    "# removing correlated columns\n",
    "del diabetes_file['skin']"
   ]
  },
  {
   "cell_type": "code",
   "execution_count": null,
   "metadata": {},
   "outputs": [],
   "source": [
    "diabetes_file"
   ]
  },
  {
   "cell_type": "markdown",
   "metadata": {},
   "source": [
    "### Changing diabetes values to 0 and 1"
   ]
  },
  {
   "cell_type": "code",
   "execution_count": 91,
   "metadata": {},
   "outputs": [
    {
     "data": {
      "text/html": [
       "<div>\n",
       "<style scoped>\n",
       "    .dataframe tbody tr th:only-of-type {\n",
       "        vertical-align: middle;\n",
       "    }\n",
       "\n",
       "    .dataframe tbody tr th {\n",
       "        vertical-align: top;\n",
       "    }\n",
       "\n",
       "    .dataframe thead th {\n",
       "        text-align: right;\n",
       "    }\n",
       "</style>\n",
       "<table border=\"1\" class=\"dataframe\">\n",
       "  <thead>\n",
       "    <tr style=\"text-align: right;\">\n",
       "      <th></th>\n",
       "      <th>num_preg</th>\n",
       "      <th>glucose_conc</th>\n",
       "      <th>diastolic_bp</th>\n",
       "      <th>thickness</th>\n",
       "      <th>insulin</th>\n",
       "      <th>bmi</th>\n",
       "      <th>diab_pred</th>\n",
       "      <th>age</th>\n",
       "      <th>diabetes</th>\n",
       "    </tr>\n",
       "  </thead>\n",
       "  <tbody>\n",
       "    <tr>\n",
       "      <th>0</th>\n",
       "      <td>6</td>\n",
       "      <td>148.0</td>\n",
       "      <td>72.0</td>\n",
       "      <td>35.00000</td>\n",
       "      <td>155.548223</td>\n",
       "      <td>33.6</td>\n",
       "      <td>0.627</td>\n",
       "      <td>50</td>\n",
       "      <td>1</td>\n",
       "    </tr>\n",
       "    <tr>\n",
       "      <th>1</th>\n",
       "      <td>1</td>\n",
       "      <td>85.0</td>\n",
       "      <td>66.0</td>\n",
       "      <td>29.00000</td>\n",
       "      <td>155.548223</td>\n",
       "      <td>26.6</td>\n",
       "      <td>0.351</td>\n",
       "      <td>31</td>\n",
       "      <td>0</td>\n",
       "    </tr>\n",
       "    <tr>\n",
       "      <th>2</th>\n",
       "      <td>8</td>\n",
       "      <td>183.0</td>\n",
       "      <td>64.0</td>\n",
       "      <td>29.15342</td>\n",
       "      <td>155.548223</td>\n",
       "      <td>23.3</td>\n",
       "      <td>0.672</td>\n",
       "      <td>32</td>\n",
       "      <td>1</td>\n",
       "    </tr>\n",
       "    <tr>\n",
       "      <th>3</th>\n",
       "      <td>1</td>\n",
       "      <td>89.0</td>\n",
       "      <td>66.0</td>\n",
       "      <td>23.00000</td>\n",
       "      <td>94.000000</td>\n",
       "      <td>28.1</td>\n",
       "      <td>0.167</td>\n",
       "      <td>21</td>\n",
       "      <td>0</td>\n",
       "    </tr>\n",
       "    <tr>\n",
       "      <th>4</th>\n",
       "      <td>0</td>\n",
       "      <td>137.0</td>\n",
       "      <td>40.0</td>\n",
       "      <td>35.00000</td>\n",
       "      <td>168.000000</td>\n",
       "      <td>43.1</td>\n",
       "      <td>2.288</td>\n",
       "      <td>33</td>\n",
       "      <td>1</td>\n",
       "    </tr>\n",
       "    <tr>\n",
       "      <th>...</th>\n",
       "      <td>...</td>\n",
       "      <td>...</td>\n",
       "      <td>...</td>\n",
       "      <td>...</td>\n",
       "      <td>...</td>\n",
       "      <td>...</td>\n",
       "      <td>...</td>\n",
       "      <td>...</td>\n",
       "      <td>...</td>\n",
       "    </tr>\n",
       "    <tr>\n",
       "      <th>763</th>\n",
       "      <td>10</td>\n",
       "      <td>101.0</td>\n",
       "      <td>76.0</td>\n",
       "      <td>48.00000</td>\n",
       "      <td>180.000000</td>\n",
       "      <td>32.9</td>\n",
       "      <td>0.171</td>\n",
       "      <td>63</td>\n",
       "      <td>0</td>\n",
       "    </tr>\n",
       "    <tr>\n",
       "      <th>764</th>\n",
       "      <td>2</td>\n",
       "      <td>122.0</td>\n",
       "      <td>70.0</td>\n",
       "      <td>27.00000</td>\n",
       "      <td>155.548223</td>\n",
       "      <td>36.8</td>\n",
       "      <td>0.340</td>\n",
       "      <td>27</td>\n",
       "      <td>0</td>\n",
       "    </tr>\n",
       "    <tr>\n",
       "      <th>765</th>\n",
       "      <td>5</td>\n",
       "      <td>121.0</td>\n",
       "      <td>72.0</td>\n",
       "      <td>23.00000</td>\n",
       "      <td>112.000000</td>\n",
       "      <td>26.2</td>\n",
       "      <td>0.245</td>\n",
       "      <td>30</td>\n",
       "      <td>0</td>\n",
       "    </tr>\n",
       "    <tr>\n",
       "      <th>766</th>\n",
       "      <td>1</td>\n",
       "      <td>126.0</td>\n",
       "      <td>60.0</td>\n",
       "      <td>29.15342</td>\n",
       "      <td>155.548223</td>\n",
       "      <td>30.1</td>\n",
       "      <td>0.349</td>\n",
       "      <td>47</td>\n",
       "      <td>1</td>\n",
       "    </tr>\n",
       "    <tr>\n",
       "      <th>767</th>\n",
       "      <td>1</td>\n",
       "      <td>93.0</td>\n",
       "      <td>70.0</td>\n",
       "      <td>31.00000</td>\n",
       "      <td>155.548223</td>\n",
       "      <td>30.4</td>\n",
       "      <td>0.315</td>\n",
       "      <td>23</td>\n",
       "      <td>0</td>\n",
       "    </tr>\n",
       "  </tbody>\n",
       "</table>\n",
       "<p>768 rows × 9 columns</p>\n",
       "</div>"
      ],
      "text/plain": [
       "     num_preg  glucose_conc  diastolic_bp  thickness     insulin   bmi  \\\n",
       "0           6         148.0          72.0   35.00000  155.548223  33.6   \n",
       "1           1          85.0          66.0   29.00000  155.548223  26.6   \n",
       "2           8         183.0          64.0   29.15342  155.548223  23.3   \n",
       "3           1          89.0          66.0   23.00000   94.000000  28.1   \n",
       "4           0         137.0          40.0   35.00000  168.000000  43.1   \n",
       "..        ...           ...           ...        ...         ...   ...   \n",
       "763        10         101.0          76.0   48.00000  180.000000  32.9   \n",
       "764         2         122.0          70.0   27.00000  155.548223  36.8   \n",
       "765         5         121.0          72.0   23.00000  112.000000  26.2   \n",
       "766         1         126.0          60.0   29.15342  155.548223  30.1   \n",
       "767         1          93.0          70.0   31.00000  155.548223  30.4   \n",
       "\n",
       "     diab_pred  age  diabetes  \n",
       "0        0.627   50         1  \n",
       "1        0.351   31         0  \n",
       "2        0.672   32         1  \n",
       "3        0.167   21         0  \n",
       "4        2.288   33         1  \n",
       "..         ...  ...       ...  \n",
       "763      0.171   63         0  \n",
       "764      0.340   27         0  \n",
       "765      0.245   30         0  \n",
       "766      0.349   47         1  \n",
       "767      0.315   23         0  \n",
       "\n",
       "[768 rows x 9 columns]"
      ]
     },
     "execution_count": 91,
     "metadata": {},
     "output_type": "execute_result"
    }
   ],
   "source": [
    "mapping = {True:1,\n",
    "           False:0}\n",
    "diabetes_file['diabetes'] = diabetes_file['diabetes'].map(mapping)\n",
    "diabetes_file"
   ]
  },
  {
   "cell_type": "markdown",
   "metadata": {},
   "source": [
    "Now, we need to consider the class distribution, to see if our data distributed properly or not."
   ]
  },
  {
   "cell_type": "code",
   "execution_count": 115,
   "metadata": {},
   "outputs": [
    {
     "name": "stdout",
     "output_type": "stream",
     "text": [
      "Number of diabates people: 268 (34.90%)\n",
      "Number of non-diabetes people: 500 (65.10%)\n"
     ]
    }
   ],
   "source": [
    "total_numbers = len(diabetes_file)\n",
    "diabetes_true = len(diabetes_file.loc[diabetes_file['diabetes']==1])\n",
    "diabetes_false = len(diabetes_file.loc[diabetes_file['diabetes']==0])\n",
    "print('Number of diabates people: {0} ({1:2.2f}%)'.format(diabetes_true, (diabetes_true)/(total_numbers) * 100))\n",
    "print('Number of non-diabetes people: {0} ({1:2.2f}%)'.format(diabetes_false, (diabetes_false)/(total_numbers) * 100))"
   ]
  },
  {
   "cell_type": "code",
   "execution_count": null,
   "metadata": {},
   "outputs": [],
   "source": [
    "distribution = diaba"
   ]
  }
 ],
 "metadata": {
  "kernelspec": {
   "display_name": "Python (other-env)",
   "language": "python",
   "name": "other-env"
  },
  "language_info": {
   "codemirror_mode": {
    "name": "ipython",
    "version": 3
   },
   "file_extension": ".py",
   "mimetype": "text/x-python",
   "name": "python",
   "nbconvert_exporter": "python",
   "pygments_lexer": "ipython3",
   "version": "3.7.3"
  }
 },
 "nbformat": 4,
 "nbformat_minor": 2
}
